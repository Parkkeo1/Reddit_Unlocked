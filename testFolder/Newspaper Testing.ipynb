{
 "cells": [
  {
   "cell_type": "code",
   "execution_count": 2,
   "metadata": {},
   "outputs": [],
   "source": [
    "import newspaper"
   ]
  },
  {
   "cell_type": "code",
   "execution_count": 25,
   "metadata": {},
   "outputs": [],
   "source": [
    "readUrl = 'http://bleacherreport.com/articles/2733110-jj-watt-ruled-out-with-knee-injury-vs-chiefs-after-being-helped-off-the-field?utm_source=cnn.com&utm_medium=referral&utm_campaign=editorial'\n",
    "cnn_paper = newspaper.build(readUrl)"
   ]
  },
  {
   "cell_type": "code",
   "execution_count": 26,
   "metadata": {},
   "outputs": [
    {
     "name": "stdout",
     "output_type": "stream",
     "text": [
      "http://www.thedrum.com/news/2017/04/30/bleacher-report-challenges-sports-fans-up-your-game\r\n",
      "\n",
      "https://www.recode.net/2017/4/29/15431218/bleacher-report-mtv-video-strategy\r\n",
      "\n",
      "http://www.reuters.com/article/us-time-warner-bleacherreport-idUSKBN17S2J4\r\n",
      "\n",
      "http://www.sportingnews.com/nba/news/allen-iverson-bleacher-report-ad-campaign-the-answer-hall-of-famer-76ers-nba-johannes-leonardo/1duf5icfvvfm21snbzzokrf9ru\r\n",
      "\n",
      "https://www.sportsbusinessdaily.com/Daily/Closing-Bell/2017/04/26/BR.aspx\r\n",
      "\n",
      "http://www.sporttechie.com/2016/12/07/socialmedia/bleacher-report-receiving-its-own-snapchat-discover-channel-in-2017/\r\n",
      "\n",
      "https://www.theguardian.com/media/2016/sep/09/snapchat-weekly-football-tv-show-copa90-bleacher-report\r\n",
      "\n",
      "http://variety.com/2016/digital/news/bleacher-report-editorial-team-hires-1201852889/#respond\r\n",
      "\n",
      "http://www.businessinsider.com/bleacher-report-ceo-says-why-espn-has-had-trouble-2016-8?r=UK&IR=T\r\n",
      "\n",
      "http://irish.nbcsports.com/2016/08/04/bleacher-report-partnership-gives-fans-another-inside-look-at-notre-dame-football/\r\n",
      "\n",
      "http://www.gobblercountry.com/2016/7/14/12186710/vt-virginia-tech-hokies-mike-vick-documentary\r\n",
      "\n",
      "http://www.dailypress.com/sports/virginia-tech/dp-spt-teel-column-vick-documentary-20160709-column.html\r\n",
      "\n",
      "http://www.sun-sentinel.com/sports/highschool/recruiting/sfl-kai-leon-herbert-commits-to-michigan-walking-dead-video-20160706-htmlstory.html\r\n",
      "\n",
      "http://caneswatch.blog.palmbeachpost.com/2016/07/06/kai-leon-herbert-insane-recruiting-video-miami-michigan-florida-rutgers-ohio-state/\r\n",
      "\n",
      "http://usatodayhss.com/2016/five-star-wr-tee-higgins-commits-to-clemson-with-fireworks-video\r\n",
      "\n",
      "https://mic.com/articles/147059/bleacher-report-and-kith-launch-one-of-a-kind-interactive-pop-up-shop#.y8tG9JoyJ\r\n",
      "\n",
      "http://www.sportsbusinessdaily.com/Daily/Issues/2016/06/23/Marketing-and-Sponsorship/Bleacher-Report\r\n",
      "\n",
      "http://hypebeast.com/2016/6/bleacher-report-kith-br99-pop-up-shop\r\n",
      "\n",
      "http://www.cnbc.com/2016/06/08/inside-bleacher-report-a-sports-franchise-for-the-digital-age.html\r\n",
      "\n",
      "http://www.forbes.com/sites/meganbruneau/2016/05/31/ceo-of-bleacher-report-on-founding-with-friends-big-egos/#457fbacf40e2\r\n",
      "\n",
      "http://www.adweek.com/socialtimes/top-10-media-publishers-april-2016-the-dodo-soars/639392\r\n",
      "\n",
      "https://sffoghorn.org/2016/04/28/foghorn-alumni-promoted-to-president-of-bleacher-report/\r\n",
      "\n",
      "http://www.forbes.com/sites/amymorin/2016/04/21/10-ceos-offer-their-best-advice-for-turning-mistakes-into-learning-opportunities/#bc2d9b440781\r\n",
      "\n",
      "http://www.wsj.com/articles/turner-plans-to-spend-100-million-expanding-bleacher-report-1458813601\r\n",
      "\n",
      "http://www.forbes.com/sites/aaronkwittken/2016/03/10/how-bleacher-report-went-from-blog-to-brand/#3967bf455f0c\r\n",
      "\n",
      "http://radio.foxnews.com/2016/02/11/how-bleacher-report-is-challenging-espn-for-internet-sports-superiority/\r\n",
      "\n",
      "http://www.latimes.com/sports/la-sp-signing-day-shenanigans-20160203-story.html#.VCzGsyldWgJ\r\n",
      "\n",
      "http://nypost.com/2016/02/01/companies-could-care-less-about-your-resume-when-hiring/\r\n",
      "\n",
      "http://digiday.com/publishers/bleacher-report-29-mil-video-views-instagram-month/#.VCzGsyldWgJ\r\n",
      "\n",
      "http://www.fastcompany.com/3055487/in-bleacher-reports-changing-lineup-co-founder-dave-finocchio-returns-as-ceo\r\n",
      "\n",
      "http://www.adweek.com/socialtimes/top-10-media-publishers-of-december-2015-playboy-ends-year-on-high-note#.VCzGsyldWgJ\r\n",
      "\n",
      "http://www.adweek.com/adfreak/bleacher-report-serves-riotous-remake-blackaliciouss-alphabet-aerobics-168413#.VCzGsyldWgJ\r\n",
      "\n",
      "http://www.adweek.com/news/technology/meet-bleacher-report-editor-who-trouncing-espn-social-sharing-168293#.VCzGsyldWgJ\r\n",
      "\n",
      "http://www.adweek.com/news-gallery/technology/hot-list-24-digital-brands-startups-and-games-defined-2015-168250#.VCzGsyldWgJ\r\n",
      "\n",
      "http://www.fastcompany.com/3053842/the-fast-company-innovation-festival/why-bleacher-report-is-a-social-first-site#.VCzGsyldWgJ\r\n",
      "\n",
      "http://www.foxsports.com/college-football/outkick-the-coverage/bleacher-report-founder-on-state-of-sports-media-business-110515#.VCzGsyldWgJ\r\n",
      "\n",
      "http://digiday.com/publishers/bleacher-report-deep-links-way-new-revenue/#.VCzGsyldWgJ\r\n",
      "\n",
      "http://www.forbes.com/sites/blakewilliams3012/2015/09/09/ticket-sale-app-gametime-bleacher-report-reach-exclusive-agreement/#281b461617a0#.VCzGsyldWgJ\r\n",
      "\n",
      "https://www.turner.com/pressroom/bleacher-report-host-star-studded-super-bowl-party-featuring-live-performance-zac-brown#.VMlAAWTF_vS\r\n",
      "\n",
      "https://www.turner.com/pressroom/founder-dave-finocchio-return-bleacher-report-ceo-rory-brown-elevated-president-bleacher#.VMlAAWTF_vS\r\n",
      "\n",
      "http://www.timewarner.com/newsroom/press-releases/2015/12/02/uninterrupted-secures-158m-financing-led-by-warner-bros#.VMlAAWTF_vS\r\n",
      "\n",
      "https://www.turner.com/pressroom/bleacher-report-kick-football-season-expanded-video-franchises#.VMlAAWTF_vS\r\n",
      "\n",
      "https://www.turner.com/pressroom/bleacher-reports-top-rated-team-stream-app-now-available-apple-watch#.VMlAAWTF_vS\r\n",
      "\n",
      "https://www.turner.com/pressroom/lebron-james-and-draymond-green-take-fans-inside-2015-nba-playoffs-uninterrupted-bleacher#.VMlAAWTF_vS\r\n",
      "\n",
      "https://www.turner.com/pressroom/bleacher-report-partners-snapchat-new-discover-feature#.VMlAAWTF_vS\r\n",
      "\n",
      "https://www.turner.com/pressroom/bleacher-report-sets-new-record-88-million-daily-unique-visitors#.VLap7VqJndk\r\n",
      "\n",
      "https://www.turner.com/pressroom/bleacher-report-sets-new-record-459-million-unique-visitors-august#.VCzElildWgJ\r\n",
      "\n",
      "https://www.turner.com/pressroom/bleacher-report-releases-major-update-team-stream-app#.VCzFkildWgJ\r\n",
      "\n",
      "https://www.turner.com/pressroom/siriusxm-and-bleacher-report-debut-new-channel-september-2#.VCzGsyldWgJ\r\n",
      "\n",
      "http://bleacherreport.com/astros-vs-yankees-2017-10-16\n",
      "http://www.thedrum.com/news/2017/04/30/bleacher-report-challenges-sports-fans-up-your-game\r\n",
      "\n"
     ]
    }
   ],
   "source": [
    "i = 0\n",
    "articleIndex = 0\n",
    "for article in cnn_paper.articles:\n",
    "    print(article.url)\n",
    "    if(article.url == readUrl):\n",
    "        articleIndex = i\n",
    "        break\n",
    "    i = i + 1\n",
    "article = cnn_paper.articles[articleIndex]\n",
    "print(article.url)"
   ]
  },
  {
   "cell_type": "code",
   "execution_count": 27,
   "metadata": {},
   "outputs": [
    {
     "name": "stdout",
     "output_type": "stream",
     "text": [
      "http://bleacherreport.com/articles/2733110-jj-watt-ruled-out-with-knee-injury-vs-chiefs-after-being-helped-off-the-field?utm_source=cnn.com&utm_medium=referral&utm_campaign=editorial\n",
      "http://bleacherreport.com/mma\n",
      "http://bleacherreport.com/trending\n",
      "http://bleacherreport.com/press-room\n",
      "http://bleacherreport.com/wwe\n",
      "http://bleacherreport.com/boxing\n",
      "http://mag.bleacherreport.com\n",
      "http://bleacherreport.com/more\n",
      "http://bleacherreport.com/golf\n",
      "http://bleacherreport.com/mlb\n",
      "http://bleacherreport.com/tennis\n",
      "http://bleacherreport.com/nfl\n",
      "http://bleacherreport.com/nba\n",
      "http://bleacherreport.com/nhl\n",
      "http://blog.bleacherreport.com\n",
      "http://bleacherreport.com\n",
      "http://bleacherreport.com/nascar\n"
     ]
    }
   ],
   "source": [
    "for category in cnn_paper.category_urls():\n",
    "    print(category)"
   ]
  },
  {
   "cell_type": "code",
   "execution_count": 28,
   "metadata": {},
   "outputs": [
    {
     "name": "stdout",
     "output_type": "stream",
     "text": [
      "http://www.sporttechie.com/2016/12/07/socialmedia/bleacher-report-receiving-its-own-snapchat-discover-channel-in-2017/\r\n",
      "\n"
     ]
    }
   ],
   "source": [
    "article = cnn_paper.articles[5]\n",
    "print(article.url)"
   ]
  },
  {
   "cell_type": "code",
   "execution_count": 10,
   "metadata": {},
   "outputs": [
    {
     "ename": "AttributeError",
     "evalue": "'str' object has no attribute 'download'",
     "output_type": "error",
     "traceback": [
      "\u001b[0;31m---------------------------------------------------------------------------\u001b[0m",
      "\u001b[0;31mAttributeError\u001b[0m                            Traceback (most recent call last)",
      "\u001b[0;32m<ipython-input-10-fbf9c2a853c9>\u001b[0m in \u001b[0;36m<module>\u001b[0;34m()\u001b[0m\n\u001b[0;32m----> 1\u001b[0;31m \u001b[0marticle\u001b[0m\u001b[0;34m.\u001b[0m\u001b[0mdownload\u001b[0m\u001b[0;34m(\u001b[0m\u001b[0;34m)\u001b[0m\u001b[0;34m\u001b[0m\u001b[0m\n\u001b[0m\u001b[1;32m      2\u001b[0m \u001b[0marticle\u001b[0m\u001b[0;34m.\u001b[0m\u001b[0mparse\u001b[0m\u001b[0;34m(\u001b[0m\u001b[0;34m)\u001b[0m\u001b[0;34m\u001b[0m\u001b[0m\n\u001b[1;32m      3\u001b[0m \u001b[0marticle\u001b[0m\u001b[0;34m.\u001b[0m\u001b[0mnlp\u001b[0m\u001b[0;34m(\u001b[0m\u001b[0;34m)\u001b[0m\u001b[0;34m\u001b[0m\u001b[0m\n",
      "\u001b[0;31mAttributeError\u001b[0m: 'str' object has no attribute 'download'"
     ]
    }
   ],
   "source": [
    "article.download()\n",
    "article.parse()\n",
    "article.nlp()"
   ]
  },
  {
   "cell_type": "code",
   "execution_count": 15,
   "metadata": {},
   "outputs": [
    {
     "name": "stdout",
     "output_type": "stream",
     "text": [
      "Bob Levey/Getty Images\n",
      "\n",
      "Houston Texans superstar defensive lineman J.J. Watt suffered a serious left leg injury Sunday against the Kansas City Chiefs in the first quarter and was unable to walk off the field under his own power.\n",
      "\n",
      "The Texans announced Watt has a tibial plateau fracture, and head coach Bill O'Brien confirmed Monday that Watt will miss the season after Ian Rapoport of NFL Network reported the news Sunday night.\n",
      "\n",
      "Watt was seen on crutches entering an ambulance after suffering the injury, per Aaron Wilson of the Houston Chronicle.\n",
      "\n",
      "Watt and his brother T.J. tweeted about the injury:\n",
      "\n",
      "Adding to the Texans' woes in Week 5, John McClain of the Houston Chronicle reported Whitney Mercilus needs surgery to repair a torn pectoral muscle suffered in the first quarter and will miss the rest of the season.\n",
      "\n",
      "Injuries are becoming a worrying storyline for Watt. A back injury cost him all but three games in the 2016 season, and he dislocated a finger in the season opener, though he didn't miss a game. He also dealt with a broken hand in 2015.\n",
      "\n",
      "When he's stayed healthy, he's been the most dominant defensive player in the NFL. In his first five seasons (2011-15), he registered 372 tackles, 74.5 sacks, 15 forced fumbles, 12 fumble recoveries and 45 pass deflections.\n",
      "\n",
      "Pro Football Focus ranked him as its top player for the 2014 season and No. 5 player in 2015. He's a three-time Associated Press Defensive Player of the Year, four-time Pro Bowler and four-time first-team All-Pro selection.\n",
      "\n",
      "Watt is the heartbeat of the Texans defense and recently used his platform to raise over $37 million in donations for relief for those affected by Hurricane Harvey as more than 200,000 people donated.\n",
      "\n",
      "While the team managed to reach the postseason without Watt in 2016, the defense is far better when he's in the lineup alongside Jadeveon Clowney.\n",
      "\n",
      "In his absence, Brandon Dunn, Joel Heath and Carlos Watkins should see more time in Houston's defensive line rotation.\n"
     ]
    }
   ],
   "source": [
    "print(article.text)"
   ]
  },
  {
   "cell_type": "code",
   "execution_count": 16,
   "metadata": {},
   "outputs": [
    {
     "name": "stdout",
     "output_type": "stream",
     "text": [
      "['leg', 'texans', 'defensive', 'suffered', 'watt', 'jj', 'hospitalized', 'season', 'injury', 'hes', 'miss', 'suffering', 'player', 'reported']\n"
     ]
    }
   ],
   "source": [
    "print(article.keywords)"
   ]
  },
  {
   "cell_type": "code",
   "execution_count": 17,
   "metadata": {},
   "outputs": [
    {
     "data": {
      "text/plain": [
       "\"Bob Levey/Getty ImagesHouston Texans superstar defensive lineman J.J. Watt suffered a serious left leg injury Sunday against the Kansas City Chiefs in the first quarter and was unable to walk off the field under his own power.\\nThe Texans announced Watt has a tibial plateau fracture, and head coach Bill O'Brien confirmed Monday that Watt will miss the season after Ian Rapoport of NFL Network reported the news Sunday night.\\nWatt was seen on crutches entering an ambulance after suffering the injury, per Aaron Wilson of the Houston Chronicle.\\nWhen he's stayed healthy, he's been the most dominant defensive player in the NFL.\\nHe's a three-time Associated Press Defensive Player of the Year, four-time Pro Bowler and four-time first-team All-Pro selection.\""
      ]
     },
     "execution_count": 17,
     "metadata": {},
     "output_type": "execute_result"
    }
   ],
   "source": [
    "article.summary"
   ]
  },
  {
   "cell_type": "code",
   "execution_count": null,
   "metadata": {},
   "outputs": [],
   "source": []
  }
 ],
 "metadata": {
  "kernelspec": {
   "display_name": "Python 3",
   "language": "python",
   "name": "python3"
  },
  "language_info": {
   "codemirror_mode": {
    "name": "ipython",
    "version": 3
   },
   "file_extension": ".py",
   "mimetype": "text/x-python",
   "name": "python",
   "nbconvert_exporter": "python",
   "pygments_lexer": "ipython3",
   "version": "3.6.2"
  }
 },
 "nbformat": 4,
 "nbformat_minor": 2
}
