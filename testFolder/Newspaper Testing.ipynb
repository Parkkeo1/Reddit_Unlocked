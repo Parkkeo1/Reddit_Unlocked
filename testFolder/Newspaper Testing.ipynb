{
 "cells": [
  {
   "cell_type": "code",
   "execution_count": 15,
   "metadata": {},
   "outputs": [],
   "source": [
    "import newspaper"
   ]
  },
  {
   "cell_type": "code",
   "execution_count": 36,
   "metadata": {},
   "outputs": [],
   "source": [
    "cnn_paper = newspaper.build('http://www.breitbart.com')"
   ]
  },
  {
   "cell_type": "code",
   "execution_count": 37,
   "metadata": {},
   "outputs": [
    {
     "name": "stdout",
     "output_type": "stream",
     "text": [
      "http://www.breitbart.com/big-government/2017/10/07/exclusive-sen-durbin-spills-beans-amnesty-admits-dream-act-ploy-open-ended-amnesty/\n",
      "http://www.breitbart.com/big-government/2017/10/07/exclusive-sen-durbin-spills-beans-amnesty-admits-dream-act-ploy-open-ended-amnesty/#disqus_thread\n",
      "http://www.breitbart.com/texas/2017/10/08/dhs-promises-ice-raids-homes-businesses-sanctuary-california/\n",
      "http://www.breitbart.com/texas/2017/10/08/dhs-promises-ice-raids-homes-businesses-sanctuary-california/#disqus_thread\n",
      "http://www.breitbart.com/jerusalem/2017/10/08/trump-gives-palestinians-veto-u-s-embassy-move/\n",
      "http://www.breitbart.com/jerusalem/2017/10/08/trump-gives-palestinians-veto-u-s-embassy-move/#disqus_thread\n",
      "http://www.breitbart.com/sports/2017/10/08/poll-nfl-no-longer-americas-favorite-sport/\n",
      "http://www.breitbart.com/sports/2017/10/08/poll-nfl-no-longer-americas-favorite-sport/#disqus_thread\n",
      "http://www.breitbart.com/big-government/2017/10/08/nine-republican-senators-ask-atf-reconsider-regulating-firearm-accessory/\n",
      "http://www.breitbart.com/big-government/2017/10/08/nine-republican-senators-ask-atf-reconsider-regulating-firearm-accessory/#disqus_thread\n",
      "http://www.breitbart.com/big-government/2017/10/06/hurricane-nate-stalks-gulf-coast/\n",
      "http://www.breitbart.com/big-government/2017/10/06/hurricane-nate-stalks-gulf-coast/#disqus_thread\n",
      "http://www.breitbart.com/video/2017/10/08/feinstein-dont-know-gun-law-stopped-las-vegas-shooting/\n",
      "http://www.breitbart.com/video/2017/10/08/feinstein-dont-know-gun-law-stopped-las-vegas-shooting/#disqus_thread\n",
      "http://www.breitbart.com/video/2017/10/07/pirro-on-hillary-politicizing-las-vegas-shooting-time-for-you-to-go-back-into-the-woods/\n",
      "http://www.breitbart.com/video/2017/10/07/pirro-on-hillary-politicizing-las-vegas-shooting-time-for-you-to-go-back-into-the-woods/#disqus_thread\n",
      "http://www.breitbart.com/video/2017/10/08/nras-chris-cox-bump-stocks-dont-believe-bans-ever-worked-anything/\n",
      "http://www.breitbart.com/video/2017/10/08/nras-chris-cox-bump-stocks-dont-believe-bans-ever-worked-anything/#disqus_thread\n",
      "http://www.breitbart.com/video/2017/10/08/steve-wynn-no-guns-allowed-hotel-casino-unless-theyre-carried-employees/\n",
      "http://www.breitbart.com/video/2017/10/08/steve-wynn-no-guns-allowed-hotel-casino-unless-theyre-carried-employees/#disqus_thread\n",
      "http://www.breitbart.com/big-hollywood/2017/10/08/delingpole-netflixs-magic-school-bus-warns-kids-use-green-energy-monster-will-eat/\n",
      "http://www.breitbart.com/big-hollywood/2017/10/08/delingpole-netflixs-magic-school-bus-warns-kids-use-green-energy-monster-will-eat/#disqus_thread\n",
      "http://www.breitbart.com/london/2017/10/08/hillary-clinton-demeans-brexit-voters-disgusted-nigel-farage/\n",
      "http://www.breitbart.com/london/2017/10/08/hillary-clinton-demeans-brexit-voters-disgusted-nigel-farage/#disqus_thread\n",
      "http://www.breitbart.com/big-government/2017/10/08/west-virginia-woman-dies-boyfriend-allegedly-set-fire/\n",
      "http://www.breitbart.com/big-government/2017/10/08/west-virginia-woman-dies-boyfriend-allegedly-set-fire/#disqus_thread\n",
      "http://www.breitbart.com/california/2017/10/08/california-hepatitis-a-outbreak-on-verge-of-statewide-epidemic/\n",
      "http://www.breitbart.com/california/2017/10/08/california-hepatitis-a-outbreak-on-verge-of-statewide-epidemic/#disqus_thread\n",
      "http://www.breitbart.com/jerusalem/2017/10/08/french-police-stall-investigation-student-10-beaten-school-jewish/\n",
      "http://www.breitbart.com/jerusalem/2017/10/08/french-police-stall-investigation-student-10-beaten-school-jewish/#disqus_thread\n",
      "http://www.breitbart.com/london/2017/10/08/thousands-poles-pray-border-islamisation-europe/\n",
      "http://www.breitbart.com/london/2017/10/08/thousands-poles-pray-border-islamisation-europe/#disqus_thread\n",
      "http://www.breitbart.com/big-government/2017/10/07/trump-republicans-deserve-equal-time-television-news-shows/\n",
      "http://www.breitbart.com/big-government/2017/10/07/trump-republicans-deserve-equal-time-television-news-shows/#disqus_thread\n",
      "http://www.breitbart.com/big-government/2017/10/07/who-knows-trump-calls-schumer-deal-health-care/\n",
      "http://www.breitbart.com/big-government/2017/10/07/who-knows-trump-calls-schumer-deal-health-care/#disqus_thread\n",
      "http://www.breitbart.com/big-government/2017/10/07/donald-trump-john-kelly-loves-his-job-will-remain-for-seven-remaining-years/\n",
      "http://www.breitbart.com/big-government/2017/10/07/donald-trump-john-kelly-loves-his-job-will-remain-for-seven-remaining-years/#disqus_thread\n",
      "http://www.breitbart.com/big-government/2017/10/07/donald-trump-not-surprised-by-harvey-weinstein-allegations/\n",
      "http://www.breitbart.com/big-government/2017/10/07/donald-trump-not-surprised-by-harvey-weinstein-allegations/#disqus_thread\n",
      "http://www.breitbart.com/big-government/2017/10/07/breitbart-goes-old-hickory-in-tennessee-gets-2-establishment-scalps/\n",
      "http://www.breitbart.com/big-government/2017/10/07/breitbart-goes-old-hickory-in-tennessee-gets-2-establishment-scalps/#disqus_thread\n",
      "http://www.breitbart.com/big-government/2017/10/07/montana-republican-challenging-liberal-tester-build-wall-support-president-trumps-agenda/\n",
      "http://www.breitbart.com/big-government/2017/10/07/montana-republican-challenging-liberal-tester-build-wall-support-president-trumps-agenda/#disqus_thread\n",
      "http://www.breitbart.com/radio/2017/10/07/grimm-loretta-lynch-prosecuted-me-become-ag/\n",
      "http://www.breitbart.com/radio/2017/10/07/grimm-loretta-lynch-prosecuted-me-become-ag/#disqus_thread\n",
      "http://www.breitbart.com/big-government/2017/10/07/dr-seuss-museum-mural-replaced-authors-claim-illustration-racist/\n",
      "http://www.breitbart.com/big-government/2017/10/07/dr-seuss-museum-mural-replaced-authors-claim-illustration-racist/#disqus_thread\n",
      "http://www.breitbart.com/big-government/2017/10/07/video-gay-coffee-shop-owner-shouts-profanities-at-christian-pro-life-group-kicks-them-out/\n",
      "http://www.breitbart.com/big-government/2017/10/07/video-gay-coffee-shop-owner-shouts-profanities-at-christian-pro-life-group-kicks-them-out/#disqus_thread\n",
      "http://www.breitbart.com/big-government/2017/10/07/pa-vegan-loses-food-truck-business-celebrating-murder-meat-eaters-las-vegas/\n",
      "http://www.breitbart.com/big-government/2017/10/07/pa-vegan-loses-food-truck-business-celebrating-murder-meat-eaters-las-vegas/#disqus_thread\n",
      "http://www.breitbart.com/big-hollywood/2017/10/07/silence-deafening-actresses-worked-weinstein-stay-quiet-harassment-allegations-surface/\n",
      "http://www.breitbart.com/big-hollywood/2017/10/07/silence-deafening-actresses-worked-weinstein-stay-quiet-harassment-allegations-surface/#disqus_thread\n",
      "http://www.breitbart.com/big-hollywood/2017/10/07/reporter-claims-harvey-weinstein-masturbated-in-front-of-her/\n",
      "http://www.breitbart.com/big-hollywood/2017/10/07/reporter-claims-harvey-weinstein-masturbated-in-front-of-her/#disqus_thread\n",
      "http://www.breitbart.com/big-hollywood/2017/10/07/la-times-breitbarts-alex-marlow-reacts-hollywoods-double-standard-harvey-weinstein-sexual-harassment-scandal/\n",
      "http://www.breitbart.com/big-hollywood/2017/10/07/la-times-breitbarts-alex-marlow-reacts-hollywoods-double-standard-harvey-weinstein-sexual-harassment-scandal/#disqus_thread\n",
      "http://www.breitbart.com/big-hollywood/2017/10/07/lisa-bloom-resigns-harvey-weinstein-adviser-sexual-harassment-scandal-intensifies/\n",
      "http://www.breitbart.com/big-hollywood/2017/10/07/lisa-bloom-resigns-harvey-weinstein-adviser-sexual-harassment-scandal-intensifies/#disqus_thread\n",
      "http://www.breitbart.com/big-hollywood/2017/10/06/dnc-harvey-weinstein-news-deeply-troubling/\n",
      "http://www.breitbart.com/big-hollywood/2017/10/06/dnc-harvey-weinstein-news-deeply-troubling/#disqus_thread\n",
      "http://www.breitbart.com/big-hollywood/2017/10/07/weinstein-company-board-members-quit-independent-investigation-following-sexual-harassment-claims-harvey-weinstein/\n",
      "http://www.breitbart.com/big-hollywood/2017/10/07/weinstein-company-board-members-quit-independent-investigation-following-sexual-harassment-claims-harvey-weinstein/#disqus_thread\n",
      "http://www.breitbart.com/national-security/2017/10/06/russia-proposes-ban-selfies-social-media-posts-soldiers-abroad/\n",
      "http://www.breitbart.com/national-security/2017/10/06/russia-proposes-ban-selfies-social-media-posts-soldiers-abroad/#disqus_thread\n",
      "http://www.breitbart.com/national-security/2017/10/06/russian-hackers-target-nato-smartphones-eastern-europe/\n",
      "http://www.breitbart.com/national-security/2017/10/06/russian-hackers-target-nato-smartphones-eastern-europe/#disqus_thread\n",
      "http://www.breitbart.com/tech/2017/10/05/study-public-fears-growing-dominance-of-robots/\n",
      "http://www.breitbart.com/tech/2017/10/05/study-public-fears-growing-dominance-of-robots/#disqus_thread\n",
      "http://www.breitbart.com/tech/2017/10/05/mattel-cancels-development-of-ai-child-monitor/\n",
      "http://www.breitbart.com/tech/2017/10/05/mattel-cancels-development-of-ai-child-monitor/#disqus_thread\n",
      "http://www.breitbart.com/tech/2017/10/06/researchers-develop-smart-bandage-that-can-speed-healing/\n",
      "http://www.breitbart.com/tech/2017/10/06/researchers-develop-smart-bandage-that-can-speed-healing/#disqus_thread\n",
      "http://www.breitbart.com/texas/2017/10/08/mexican-cops-find-2-year-old-child-cartel-gunmen-near-texas-border/\n",
      "http://www.breitbart.com/texas/2017/10/08/mexican-cops-find-2-year-old-child-cartel-gunmen-near-texas-border/#disqus_thread\n",
      "http://www.breitbart.com/texas/2017/10/08/sinaloa-cartel-cell-arrested-mexican-border-state-shootout/\n",
      "http://www.breitbart.com/texas/2017/10/08/sinaloa-cartel-cell-arrested-mexican-border-state-shootout/#disqus_thread\n",
      "http://www.breitbart.com/texas/2017/10/07/border-patrol-busts-10-camouflaged-pot-smuggling-illegal-aliens/\n",
      "http://www.breitbart.com/texas/2017/10/07/border-patrol-busts-10-camouflaged-pot-smuggling-illegal-aliens/#disqus_thread\n",
      "http://www.breitbart.com/video/2017/10/07/watch-jason-aldean-opens-snl-tom-pettys-wont-back/\n",
      "http://www.breitbart.com/video/2017/10/07/watch-jason-aldean-opens-snl-tom-pettys-wont-back/#disqus_thread\n",
      "http://www.breitbart.com/video/2017/10/07/david-brooks-jimmy-kimmel-michael-bloomberg-shouldnt-face-gun-control/\n",
      "http://www.breitbart.com/video/2017/10/07/david-brooks-jimmy-kimmel-michael-bloomberg-shouldnt-face-gun-control/#disqus_thread\n",
      "http://www.breitbart.com/video/2017/10/07/billy-crystal-rips-sean-spicer-even-mel-gibson-thinks-hes-an-ahole/\n",
      "http://www.breitbart.com/video/2017/10/07/billy-crystal-rips-sean-spicer-even-mel-gibson-thinks-hes-an-ahole/#disqus_thread\n",
      "http://www.breitbart.com/big-government/2017/10/07/u-s-bishops-hail-trump-hhs-contraception-mandate-as-return-to-common-sense/\n",
      "http://www.breitbart.com/big-government/2017/10/07/u-s-bishops-hail-trump-hhs-contraception-mandate-as-return-to-common-sense/#disqus_thread\n",
      "http://www.breitbart.com/big-government/2017/10/06/abortion-industry-revs-up-war-on-women-over-end-of-contraceptive-mandate/\n",
      "http://www.breitbart.com/big-government/2017/10/06/abortion-industry-revs-up-war-on-women-over-end-of-contraceptive-mandate/#disqus_thread\n",
      "http://www.breitbart.com/tech/2017/10/06/bank-behind-fearless-girl-statue-pays-5m-for-over-300-gender-discrimination-allegations/\n",
      "http://www.breitbart.com/tech/2017/10/06/bank-behind-fearless-girl-statue-pays-5m-for-over-300-gender-discrimination-allegations/#disqus_thread\n",
      "http://www.breitbart.com/big-government/2017/10/07/removal-confederate-monuments-costing-us-cities-millions/\n",
      "http://www.breitbart.com/big-government/2017/10/07/removal-confederate-monuments-costing-us-cities-millions/#disqus_thread\n",
      "http://www.breitbart.com/texas/2017/10/07/photo-journalist-kidnapped-murdered-pseudo-cops-central-mexico/\n",
      "http://www.breitbart.com/texas/2017/10/07/photo-journalist-kidnapped-murdered-pseudo-cops-central-mexico/#disqus_thread\n",
      "http://www.breitbart.com/texas/2017/10/07/report-cartel-human-smuggling-fees-skyrocketed-under-trump/\n",
      "http://www.breitbart.com/texas/2017/10/07/report-cartel-human-smuggling-fees-skyrocketed-under-trump/#disqus_thread\n",
      "http://www.breitbart.com/texas/2017/10/06/mexican-cops-arrest-former-border-state-narco-governor/\n",
      "http://www.breitbart.com/texas/2017/10/06/mexican-cops-arrest-former-border-state-narco-governor/#disqus_thread\n",
      "http://www.breitbart.com/london/2017/10/07/several-injured-car-rams-pedestrians-outside-natural-history-museum-london/\n",
      "http://www.breitbart.com/london/2017/10/07/several-injured-car-rams-pedestrians-outside-natural-history-museum-london/#disqus_thread\n",
      "http://www.breitbart.com/london/2017/10/07/top-eurocrat-brands-patriotic-poland-greater-danger-eu-than-brexit/\n",
      "http://www.breitbart.com/london/2017/10/07/top-eurocrat-brands-patriotic-poland-greater-danger-eu-than-brexit/#disqus_thread\n",
      "http://www.breitbart.com/london/2017/10/07/swedish-lawyer-claims-majority-rape-suspects-cases-migrants/\n",
      "http://www.breitbart.com/london/2017/10/07/swedish-lawyer-claims-majority-rape-suspects-cases-migrants/#disqus_thread\n",
      "http://www.breitbart.com/big-hollywood/2017/10/07/nolte-playboys-hugh-hefner-liberated-us-straight-hell/\n",
      "http://www.breitbart.com/big-hollywood/2017/10/07/nolte-playboys-hugh-hefner-liberated-us-straight-hell/#disqus_thread\n",
      "http://www.breitbart.com/big-government/2017/10/02/las-vegas-report-one-gunman-open-fire-mandalay-bay-casino/\n",
      "http://www.breitbart.com/big-government/2017/10/02/las-vegas-report-one-gunman-open-fire-mandalay-bay-casino/#disqus_thread\n",
      "http://www.breitbart.com/texas/2017/10/07/texas-senior-sues-suspended-not-standing-pledge/\n",
      "http://www.breitbart.com/texas/2017/10/07/texas-senior-sues-suspended-not-standing-pledge/#disqus_thread\n",
      "http://www.breitbart.com/big-government/2017/10/07/undersheriff-confident-no-second-shooter-room-las-vegas-attacker-paddock/\n",
      "http://www.breitbart.com/big-government/2017/10/07/undersheriff-confident-no-second-shooter-room-las-vegas-attacker-paddock/#disqus_thread\n"
     ]
    }
   ],
   "source": [
    "for article in cnn_paper.articles:\n",
    "    print(article.url)"
   ]
  },
  {
   "cell_type": "code",
   "execution_count": 38,
   "metadata": {},
   "outputs": [
    {
     "name": "stdout",
     "output_type": "stream",
     "text": [
      "http://www.breitbart.com\n",
      "https://mediakit.breitbart.com\n",
      "http://www.breitbart.com\n",
      "http://www.breitbart.com/podcasts\n",
      "http://www.breitbart.com/send-a-tip\n"
     ]
    }
   ],
   "source": [
    "for category in cnn_paper.category_urls():\n",
    "    print(category)"
   ]
  },
  {
   "cell_type": "code",
   "execution_count": 39,
   "metadata": {},
   "outputs": [
    {
     "name": "stdout",
     "output_type": "stream",
     "text": [
      "http://www.breitbart.com/big-government/2017/10/07/exclusive-sen-durbin-spills-beans-amnesty-admits-dream-act-ploy-open-ended-amnesty/\n"
     ]
    }
   ],
   "source": [
    "article = cnn_paper.articles[0]\n",
    "print(article.url)"
   ]
  },
  {
   "cell_type": "code",
   "execution_count": 40,
   "metadata": {},
   "outputs": [],
   "source": [
    "article.download()\n",
    "article.parse()\n",
    "article.nlp()"
   ]
  },
  {
   "cell_type": "code",
   "execution_count": 42,
   "metadata": {},
   "outputs": [
    {
     "name": "stdout",
     "output_type": "stream",
     "text": [
      "Democratic leader Sen. Richard Durbin confirmed to Breitbart News that the Dream Act amnesty is open-ended and larger than his advertised number of the 780,000 people who have signed up for the DACA amnesty.\n",
      "\n",
      "Breitbart News asked Durbin on Wednesday how many people would be included in the amnesty, which is co-sponsored by South Carolina Republican Sen. Lindsey Graham. Durbin answered by saying:\n",
      "\n",
      "advertisement\n",
      "\n",
      "We’re aiming at the DACA population, which is 780,000, but the Dream Act leaves that open.\n",
      "\n",
      "Durbin spoke at a press conference arranged by Mark Zuckerberg’s FWD.us advocacy group. The event featured roughly 100 illegal aliens. Breitbart News asked the Illinois Senator when he would have a public estimate for the number of people who would gain from open-ended Dream Act, and he replied:\n",
      "\n",
      "I don’t know that we have numbers. We can tell you 780,000 DACA. You have got ask how many are eligible for DACA today that didn’t apply, and I dont know what that number is. I really don’t. It is going to be more than 780,000, but I don’t know what it is.\n",
      "\n",
      "Breitbart News cited the estimates prepared by the pro-amnesty Migration Policy Insitute estimates, which shows that 3.3 million illegal aliens would be eligible to obtain amnesty under the DREAM Act. But Durbin insisted he did not know how many would gain and charged GOP legislators with exaggerating the size of the amnesty and the number of people who would later arrive via chain migration. He said:\n",
      "\n",
      "I don’t know where those numbers come from. Here is what [critics] are doing. They are projecting 15 years in the future when these Dreamers become citizens and they have the right of citizenship to petition for a spouse, children and parents, and they say, ‘Oh, that means that two or three for each one of those.’ … I had to explain it to them, the laws of biology make that very difficult because if you came here under the age of 16, and you’ve been here four years, it is not likely that any children you have will have any special status —they will have been born in the United States. So some of the speculation about the numbers is real pretty far faced, and I don’t buy the two million, three million [estimates]. I don’t know where those numbers came from.\n",
      "\n",
      "Durbin’s lack of an estimate is surprising, partly because he introduced the first version of the bill 16 years ago, in 2001.\n",
      "\n",
      "Durbin’s admission that the Dream Act is open-ended raise the stakes for the Republican Party because the vast majority of likely beneficiaries lean Democratic — and because subsequent chain migration could deliver millions of lower-skilled, government-dependent legal immigrants to the polling booths in 2028 and 2032.\n",
      "\n",
      "The bill allows beneficiaries to get citizenship in five years, or three years if they marry an American.\n",
      "\n",
      "The DACA amnesty has provided benefits to 800,000 illegals, including roughly 690,000 who are currently enrolled. But Durbin’s Dream Act offers benefits to a much large number of illegal immigrants.\n",
      "\n",
      "The pro-amnesty Migration Policy Institute said 1.8 million illegals are “immediately eligible” for the Dream Act amnesty, and 1.5 million “may become eligible … in the future.”\n",
      "\n",
      "Most of the 1.5 million would sign up for the amnesty because they would gain huge benefits, including irrevocable and lifetime legal and financial aid from the federal government for themselves and all their descendants. Also, the 1.5 million includes 387,000 young children who can apply as they grow older. The others are 1.1 million high school dropouts who could apply after they merely enroll in — not pass — a high-school education course.\n",
      "\n",
      "Those two groups of 1.8 million and 1.5 million add up to 3.3 million people who can get the Dream Act amnesty.\n",
      "\n",
      "The Dream Act also offers citizenship to the resident population of the foreign people who were given “Temporary Protected Status” after fleeing from natural disasters in Haiti, El Salvador and other countries. That number is at least 300,000.\n",
      "\n",
      "Researchers at Princeton University produced a 2013 report showing that the Mexican beneficiaries of the 1986 amnesty research sponsored an average of six family members to the United States. Roughly 90 percent of the DACA beneficiaries are from Mexico.\n",
      "\n",
      "According to a September 2017 report by the Center for Immigration Studies:\n",
      "\n",
      "If Congress enacts an amnesty offering permanent residency to 700,000 DACA recipients and there are no other changes to our legal immigration system, that amnesty will result in a surge of potentially double that number of chain migration immigrants. The most effective way to mitigate this surge in chain migration is to eliminate entire categories of immigrant visas and green cards that are now reserved for the extended family members of prior immigrants (siblings and adult sons and daughters), and thus facilitate chain migration.\n",
      "\n",
      "Dream Act chain-migration would likely be different from the 1986 chain-migration, partly because many of the younger siblings of the Dream Act beneficiaries won citizenship by being born in the United States. But few of the parents are citizens, and most would likely be eager to seek citizenship for both security and retirement benefits. In turn, the parents may try to bring in their siblings, although regulatory caps my limit chain-migration of siblings from Mexico.\n",
      "\n",
      "A back-of-the-envelope calculation shows that if only 2 million Mexicans use the Dream Act amnesty to sponsor relatives at one-third of the rate seen after the 1986 amnesty, the Durbin-Graham amnesty will deliver at least 4 million extra migrants via chain migration.\n",
      "\n",
      "But if 3 million Dream Act beneficiaries co-sponsor people at the post-1986 rate, the result will be 10 million to 20 million foreign nationals coming to the United States, including roughly 3 million to 6 million legal immigrants into the state of Texas.\n",
      "\n",
      "A different version of the Dream Act, dubbed the “SUCCEED Act,” would offer amnesty to roughly 2.5 million people, but would delay naturalization out to 15 years, versus the three-to-five-year delay in the Dream Act.\n",
      "\n",
      "The SUCCEED Act delay would likely reduce the chain-migration — but would still offer millions of poor foreign people the priceless opportunity to become legal immigrants, citizens, and voters. The SUCCEED Act is sponsored by two GOP Senators, Oklahoma’s James Lankford, and North Carolina’s Thom Tillis, who is a strong advocate of cheap-labor outsourcing.\n",
      "\n",
      "“I believe — just my personal belief as a Christian — the greatest thing you can have other than salvation in Christ on Earth is American citizenship,” Lankford said during a September 27 softball interview by Dana Perino on Fox News Tonight.\n",
      "\n",
      "NumbersUSA, an immigration reform group, has published a side-by-side comparison of the complementary Durbin and Lankford bills, which shows that that the Dream Act could bring in 17 million foreigners, while the SUCCEED Act would successfully bring in 13 million people.\n",
      "\n",
      "Business groups strong favor additional immigration, partly because immigrants help lower the cost of labor and also act as additional customers. Taxpayers, however, would pay for much of that stimulus via the federal aid that is provided to lower-income, lower-skilled immigrants and citizens.\n",
      "\n",
      "According to the CIS report;\n",
      "\n",
      "Over the last 35 years, chain migration has greatly exceeded new immigration. Out of 33 million immigrants admitted to the United States from 1981 to 2016, about 20 million were chain migration immigrants (61 percent) … Of the top immigrant-sending countries, Mexico has the highest rate of chain migration. In the most recent five-year cohort of immigrants studied (1996-2000), each new Mexican immigrant sponsored 6.38 additional legal immigrants. Chain migration is contributing to the aging of the immigration stream. In the early 1980s, only about 17 percent of family migrants were age 50 or over. In recent years, about 21 percent of family migrants were age 50 or older — a rate that is more than 24 percent higher. This trend has implications for the fiscal consequences of immigration.\n",
      "\n",
      "Trump has previously stated that an amnesty deal for DACA illegal aliens would have to include new curbs to reduce the subsequent surge of chain migration to the United States. Trump is also backing the RAISE Act, which would sharply reduce chain migration.\n",
      "\n",
      "Four million Americans turn 18 each year and begin looking for good jobs in the free market.\n"
     ]
    }
   ],
   "source": [
    "print(article.text)"
   ]
  },
  {
   "cell_type": "code",
   "execution_count": 43,
   "metadata": {},
   "outputs": [
    {
     "name": "stdout",
     "output_type": "stream",
     "text": [
      "['number', 'spills', 'dream', 'daca', 'exclusive', 'openended', 'migration', 'immigrants', 'dont', 'durbin', 'act', 'sen', 'admits', 'ploy', 'chain', 'million', 'beans', 'amnesty']\n"
     ]
    }
   ],
   "source": [
    "print(article.keywords)"
   ]
  },
  {
   "cell_type": "code",
   "execution_count": 44,
   "metadata": {},
   "outputs": [
    {
     "data": {
      "text/plain": [
       "'Democratic leader Sen. Richard Durbin confirmed to Breitbart News that the Dream Act amnesty is open-ended and larger than his advertised number of the 780,000 people who have signed up for the DACA amnesty.\\nDurbin answered by saying:advertisementWe’re aiming at the DACA population, which is 780,000, but the Dream Act leaves that open.\\nThose two groups of 1.8 million and 1.5 million add up to 3.3 million people who can get the Dream Act amnesty.\\nDream Act chain-migration would likely be different from the 1986 chain-migration, partly because many of the younger siblings of the Dream Act beneficiaries won citizenship by being born in the United States.\\nA different version of the Dream Act, dubbed the “SUCCEED Act,” would offer amnesty to roughly 2.5 million people, but would delay naturalization out to 15 years, versus the three-to-five-year delay in the Dream Act.'"
      ]
     },
     "execution_count": 44,
     "metadata": {},
     "output_type": "execute_result"
    }
   ],
   "source": [
    "article.summary"
   ]
  },
  {
   "cell_type": "code",
   "execution_count": null,
   "metadata": {},
   "outputs": [],
   "source": []
  }
 ],
 "metadata": {
  "kernelspec": {
   "display_name": "Python 3",
   "language": "python",
   "name": "python3"
  },
  "language_info": {
   "codemirror_mode": {
    "name": "ipython",
    "version": 3
   },
   "file_extension": ".py",
   "mimetype": "text/x-python",
   "name": "python",
   "nbconvert_exporter": "python",
   "pygments_lexer": "ipython3",
   "version": "3.6.2"
  }
 },
 "nbformat": 4,
 "nbformat_minor": 2
}
