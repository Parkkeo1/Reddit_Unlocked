{
 "cells": [
  {
   "cell_type": "code",
   "execution_count": 9,
   "metadata": {},
   "outputs": [],
   "source": [
    "from newspaper import Article\n",
    "import rake\n",
    "import operator"
   ]
  },
  {
   "cell_type": "code",
   "execution_count": 10,
   "metadata": {},
   "outputs": [
    {
     "name": "stdout",
     "output_type": "stream",
     "text": [
      "Please input an article: http://wtkr.com/2017/07/20/tmz-report-chester-bennington-of-linkin-park-commits-suicide/\n"
     ]
    }
   ],
   "source": [
    "readUrl = input(\"Please input an article: \")\n",
    "#readUrl = '''https://www.huffingtonpost.com/entry/firefighters-gaining-ground-against-californias-deadliest-ever-blazes_us_59e4bd3ce4b03a7be5821e8b?ncid=inblnkushpmg00000009'''\n",
    "\n",
    "#Creates an Article object that points newspaper to the URL of the webpage, lets you do all the fancy stuff.\n",
    "article = Article(readUrl)"
   ]
  },
  {
   "cell_type": "code",
   "execution_count": 11,
   "metadata": {},
   "outputs": [
    {
     "name": "stdout",
     "output_type": "stream",
     "text": [
      "Downloaded and parsed!\n"
     ]
    }
   ],
   "source": [
    "#Pulls webpage from URL, parses through and cleans up all the yucky stuff and 'reads' the article\n",
    "#MUST DO ALL THREE OF THESE BEFORE TRYING TO ACCESS ANY ARTICLE INFO\n",
    "article.download()\n",
    "article.parse()\n",
    "article.nlp()\n",
    "print(\"Downloaded and parsed!\")"
   ]
  },
  {
   "cell_type": "code",
   "execution_count": 12,
   "metadata": {},
   "outputs": [
    {
     "name": "stdout",
     "output_type": "stream",
     "text": [
      "LOS ANGELES – Chester Bennington, the lead singer of the rock band Linkin Park, was found dead Thursday according to a spokesman for the LA County Coroner.\n",
      "The coroner’s office was called out to a home in Palos Verdes Estates shortly after 9 a.m. Thursday.\n",
      "Bennington’s band found success in 2000 with their album “Hybrid Theory” with Bennington’s heartfelt vocals leading the way.\n",
      "“When I was young, getting beaten up and pretty much raped was no fun,” he told The Guardian in 2011.\n",
      "If you are depressed and need someone confidentially to talk to, the National Suicide Prevention Lifeline is open 24/7 at 1-800-273-8255.\n"
     ]
    }
   ],
   "source": [
    "#Not so relevant, but I thought it was cool to see what newspaper pulls from a URL\n",
    "print(article.summary)"
   ]
  },
  {
   "cell_type": "code",
   "execution_count": 13,
   "metadata": {},
   "outputs": [
    {
     "name": "stdout",
     "output_type": "stream",
     "text": [
      "['linkin', 'success', 'bennington', 'suicide', 'remember', 'shinoda', '41', 'band', 'soon', 'album', 'true', 'singer', 'dead', 'wonder', 'park', 'statement', 'chester']\n"
     ]
    }
   ],
   "source": [
    "#Print array of keywords\n",
    "print(article.keywords)"
   ]
  },
  {
   "cell_type": "code",
   "execution_count": 8,
   "metadata": {},
   "outputs": [
    {
     "name": "stdout",
     "output_type": "stream",
     "text": [
      "United CEO Oscar Munoz doubled down in a letter to employees on Monday evening, claiming that employees \"followed established procedures\" when removing a passenger from a plane because it was overbooked, and calling the passenger \"disruptive and belligerent.\"\n",
      "\n",
      "\n",
      "\n",
      "United had to ask several passengers who had already boarded a flight from Chicago to Louisville on Sunday evening to leave, as the airline had sold too many tickets. One man refused to leave, and United called airport officials, who forcibly removed him from the plane.\n",
      "\n",
      "Video circulated of the incident earlier in the day, showing the man being dragged from the plane and later returning with blood on his face. The incident drew scorn on Twitter and other social media, especially when Munoz used the euphemism \"re-accomodate\" in a public statement to describe the customers booted from the flight.\n",
      "\n",
      "According to the letter, which was obtained by CNBC, when crew members first approached the passenger to tell him to leave, he \"raised his voice and refused to comply,\" and each time they asked again \"he refused and became more and more disruptive and belligerent.\"\n",
      "\n",
      "Crew members \"were left with no choice but to call Chicago Aviation Security Officers to assist in removing the customer from the flight,\" Munoz wrote, and at one point the passenger \"continued to resist - running back onto the aircraft in defiance of both our crew and security officials.\"\n",
      "\n",
      "Munoz acknowledged to employees that the company could learn lessons from the incident, but said: \"I emphatically stand behind all of you.\"\n",
      "\n",
      "Here's the video, which went viral earlier today:\n"
     ]
    }
   ],
   "source": [
    "#Run this if you want to check the actual text that it gets from the URL\n",
    "print(article.text)"
   ]
  },
  {
   "cell_type": "code",
   "execution_count": 10,
   "metadata": {},
   "outputs": [],
   "source": [
    "txt = \"Americans raise $200k overnight for children of grieving Army widow Trump insulted\""
   ]
  },
  {
   "cell_type": "code",
   "execution_count": 11,
   "metadata": {},
   "outputs": [],
   "source": [
    "#Initialize a RAKE object that looks for keywords that have:\n",
    "# Minimum 1 letter\n",
    "# Maximum 2 words per phrase\n",
    "# Appears at least 1 time the text (needs to be this low for titles)\n",
    "rake_object = rake.Rake(\"SmartStoplist.txt\", 1, 2, 1)"
   ]
  },
  {
   "cell_type": "code",
   "execution_count": 12,
   "metadata": {},
   "outputs": [
    {
     "name": "stdout",
     "output_type": "stream",
     "text": [
      "[('children', 1.0)]\n"
     ]
    }
   ],
   "source": [
    "keywords = rake_object.run(txt)\n",
    "print(keywords)"
   ]
  },
  {
   "cell_type": "code",
   "execution_count": null,
   "metadata": {},
   "outputs": [],
   "source": []
  }
 ],
 "metadata": {
  "kernelspec": {
   "display_name": "Python 3",
   "language": "python",
   "name": "python3"
  },
  "language_info": {
   "codemirror_mode": {
    "name": "ipython",
    "version": 3
   },
   "file_extension": ".py",
   "mimetype": "text/x-python",
   "name": "python",
   "nbconvert_exporter": "python",
   "pygments_lexer": "ipython3",
   "version": "3.6.2"
  }
 },
 "nbformat": 4,
 "nbformat_minor": 2
}
