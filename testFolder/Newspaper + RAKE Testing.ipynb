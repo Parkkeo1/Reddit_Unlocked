{
 "cells": [
  {
   "cell_type": "code",
   "execution_count": 2,
   "metadata": {},
   "outputs": [],
   "source": [
    "from newspaper import Article\n",
    "import rake\n",
    "import operator"
   ]
  },
  {
   "cell_type": "code",
   "execution_count": 4,
   "metadata": {},
   "outputs": [
    {
     "name": "stdout",
     "output_type": "stream",
     "text": [
      "Please input an article: https://www.huffingtonpost.com/entry/firefighters-gaining-ground-against-californias-deadliest-ever-blazes_us_59e4bd3ce4b03a7be5821e8b?ncid=inblnkushpmg00000009\n"
     ]
    }
   ],
   "source": [
    "readUrl = input(\"Please input an article: \")\n",
    "#readUrl = '''https://www.huffingtonpost.com/entry/firefighters-gaining-ground-against-californias-deadliest-ever-blazes_us_59e4bd3ce4b03a7be5821e8b?ncid=inblnkushpmg00000009'''\n",
    "\n",
    "#Creates an Article object that points newspaper to the URL of the webpage, lets you do all the fancy stuff.\n",
    "article = Article(readUrl)"
   ]
  },
  {
   "cell_type": "code",
   "execution_count": 5,
   "metadata": {},
   "outputs": [
    {
     "name": "stdout",
     "output_type": "stream",
     "text": [
      "Downloaded and parsed!\n"
     ]
    }
   ],
   "source": [
    "#Pulls webpage from URL, parses through and cleans up all the yucky stuff and 'reads' the article\n",
    "#MUST DO ALL THREE OF THESE BEFORE TRYING TO ACCESS ANY ARTICLE INFO\n",
    "article.download()\n",
    "article.parse()\n",
    "article.nlp()\n",
    "print(\"Downloaded and parsed!\")"
   ]
  },
  {
   "cell_type": "code",
   "execution_count": 6,
   "metadata": {},
   "outputs": [
    {
     "name": "stdout",
     "output_type": "stream",
     "text": [
      "By Salvador RodriguezSANTA ROSA (Reuters) - Firefighters began gaining ground on wildfires that killed at least 40 people in the past week, the deadliest blazes in California’s history, as winds eased and searchers combed charred ruins for more victims with hundreds still missing.\n",
      "About 11,000 firefighters supported by air tankers and helicopters are battling blazes that have consumed more than 217,000 acres (88,000 hectares).\n",
      "Now she wonders, “Where do we all go next?”Jim Urquhart / Reuters A wildfire burns in mountains above Sonoma, California, U.S., October 14, 2017.\n",
      "At least a dozen Napa Valley and Sonoma County wineries were damaged or destroyed, throwing the state’s wine industry and related tourism into disarray.\n",
      "Firefighters from Oregon, Washington, Arizona, Colorado, Nevada, Utah and New York are helping battle the blazes.\n"
     ]
    }
   ],
   "source": [
    "#Not so relevant, but I thought it was cool to see what newspaper pulls from a URL\n",
    "print(article.summary)"
   ]
  },
  {
   "cell_type": "code",
   "execution_count": 7,
   "metadata": {},
   "outputs": [
    {
     "name": "stdout",
     "output_type": "stream",
     "text": [
      "['deadliest', 'valley', 'county', 'contained', 'wildfire', 'blazes', 'national', 'gaining', 'fires', 'rosa', 'firefighters', 'acres', 'ground', 'californias', 'california', 'sonoma']\n"
     ]
    }
   ],
   "source": [
    "#Print array of keywords\n",
    "print(article.keywords)"
   ]
  },
  {
   "cell_type": "code",
   "execution_count": 8,
   "metadata": {},
   "outputs": [
    {
     "name": "stdout",
     "output_type": "stream",
     "text": [
      "By Salvador Rodriguez\n",
      "\n",
      "SANTA ROSA (Reuters) - Firefighters began gaining ground on wildfires that killed at least 40 people in the past week, the deadliest blazes in California’s history, as winds eased and searchers combed charred ruins for more victims with hundreds still missing.\n",
      "\n",
      "Two of the three most destructive Northern California fires were more than half contained early on Monday, and some residents who fled the flames in hard-hit Sonoma County could be allowed to return home later in the day, officials said.\n",
      "\n",
      "More than 5,700 structures were destroyed by more than a dozen wildfires that ignited a week ago and consumed an area larger than New York City. Entire neighborhoods in the city of Santa Rosa were reduced to ashes.\n",
      "\n",
      "“Overall, things are feeling optimistic. We’re very cautious about that,” said Brad Gouvea, California Department of Forestry and Fire Protection incident commander. “You’d never know it’s the middle of October in Sonoma County and have fire behavior like this.”\n",
      "\n",
      "Jim Urquhart / Reuters A firefighting crew drives pass a business destroyed in wildfire that tore through Santa Rosa, California, U.S., October 15, 2017. (REUTERS/Jim Urquhart)\n",
      "\n",
      "Warm and very dry weather is forecast to continue through Monday, the National Weather Service said. Rain could arrive on Thursday after a cooling trend, it said.\n",
      "\n",
      "Steve Crawford, a Cal Fire operations chief, said heavy winds had lightened and helped drive flames away from populated areas. Better weather and additional equipment and manpower made available as other fires died down had also helped.\n",
      "\n",
      "“Before we were kind of chasing the fire,” he said.\n",
      "\n",
      "In another hopeful sign, Mendocino County authorities said power company PG&E would begin flying low in the county to check lines and re-establish power.\n",
      "\n",
      "About 11,000 firefighters supported by air tankers and helicopters are battling blazes that have consumed more than 217,000 acres (88,000 hectares).\n",
      "\n",
      "About 50 search-and-rescue personnel backed by National Guard troops were combing tens of thousands of charred acres in Sonoma County for bodies, sheriff’s spokeswoman Misti Harris said.\n",
      "\n",
      "“Once it’s safe to go through, we’ll search every structure,” she said.\n",
      "\n",
      "Twenty-two people were killed in Sonoma County and 174 were still listed as missing there, although the number has dropped from 235 on Saturday as more people checked in with authorities.\n",
      "\n",
      "Evacuation orders were lifted for the picturesque Napa Valley resort town of Calistoga, whose 5,000 residents were ordered out by authorities four days ago with fire just miles from downtown.\n",
      "\n",
      "David McNew via Getty Images A National Guard air tanker drops fire retardant during the Oakmont Fire on October 15, 2017 near Santa Rosa, California. (Photo by David McNew/Getty Images)\n",
      "\n",
      "RETURNING TO THE UNKNOWN\n",
      "\n",
      "Some evacuees being housed at a Sonoma raceway hoped to return home.\n",
      "\n",
      "Retiree Stephen Garner, 68, of Sonoma, has been camped with his wife in the couple’s recreational vehicle.\n",
      "\n",
      "“As far as we know our house is OK, but that’s the hard part, you don’t know,” he said.\n",
      "\n",
      "In Redwood Valley, a scorched Mendocino County town of about 1,700 people, Jami Flores and her family sifted through the ruins of their two-story rental home, which was reduced to rubble.\n",
      "\n",
      "“There’s been a lot of crying and a lot of emotions,” Flores, 42, said.\n",
      "\n",
      "Flores, her husband and daughter fled Monday morning after being awoken by the smell of smoke, not uncommon in the area. Seeing a red haze, they rushed to leave amid falling ash and arriving firefighters.\n",
      "\n",
      "“The mountain was on fire,” Flores said. Now she wonders, “Where do we all go next?”\n",
      "\n",
      "Jim Urquhart / Reuters A wildfire burns in mountains above Sonoma, California, U.S., October 14, 2017. (REUTERS/Jim Urquhart)\n",
      "\n",
      "The fast-moving fires north of San Francisco remained a danger, with thousands ordered to leave their homes at the weekend.\n",
      "\n",
      "Firefighters gained control of two of the deadliest fires in wine country’s Napa and Sonoma counties: The Tubbs fire was 60 percent contained and the Atlas fire 65 percent contained, Cal Fire said. Nearly half of the Redwood Valley fire, which alone is responsible for eight deaths in Mendocino County, was extinguished by late Sunday.\n",
      "\n",
      "The 40 confirmed fatalities make the fires California’s deadliest since record-keeping began, surpassing the 29 deaths from the Griffith Park fire of 1933 in Los Angeles.\n",
      "\n",
      "About 75,000 people remain displaced.\n",
      "\n",
      "At least a dozen Napa Valley and Sonoma County wineries were damaged or destroyed, throwing the state’s wine industry and related tourism into disarray.\n",
      "\n",
      "Firefighters from Oregon, Washington, Arizona, Colorado, Nevada, Utah and New York are helping battle the blazes. Cal Fire estimated the fires would be contained by Friday.\n",
      "\n",
      "The year’s wildfire season is one of the worst in U.S. history, with nearly 8.6 million acres (3.4 million hectares) burned by Oct. 13, according to the National Interagency Fire Center. The worst on record for the same period in a year was 9.3 million acres in 2015.\n"
     ]
    }
   ],
   "source": [
    "#Run this if you want to check the actual text that it gets from the URL\n",
    "print(article.text)"
   ]
  },
  {
   "cell_type": "code",
   "execution_count": 35,
   "metadata": {},
   "outputs": [],
   "source": [
    "txt = \"Americans raise $200k overnight for children of grieving Army widow Trump insulted\""
   ]
  },
  {
   "cell_type": "code",
   "execution_count": 38,
   "metadata": {},
   "outputs": [],
   "source": [
    "#Initialize a RAKE object that looks for keywords that have:\n",
    "# Minimum 1 letter\n",
    "# Maximum 2 words per phrase\n",
    "# Appears at least 1 time the text (needs to be this low for titles)\n",
    "rake_object = rake.Rake(\"SmartStoplist.txt\", 1, 2, 1)"
   ]
  },
  {
   "cell_type": "code",
   "execution_count": 39,
   "metadata": {},
   "outputs": [
    {
     "name": "stdout",
     "output_type": "stream",
     "text": [
      "[('children', 1.0)]\n"
     ]
    }
   ],
   "source": [
    "keywords = rake_object.run(txt)\n",
    "print(keywords)"
   ]
  },
  {
   "cell_type": "code",
   "execution_count": null,
   "metadata": {},
   "outputs": [],
   "source": []
  }
 ],
 "metadata": {
  "kernelspec": {
   "display_name": "Python 3",
   "language": "python",
   "name": "python3"
  },
  "language_info": {
   "codemirror_mode": {
    "name": "ipython",
    "version": 3
   },
   "file_extension": ".py",
   "mimetype": "text/x-python",
   "name": "python",
   "nbconvert_exporter": "python",
   "pygments_lexer": "ipython3",
   "version": "3.6.2"
  }
 },
 "nbformat": 4,
 "nbformat_minor": 2
}
