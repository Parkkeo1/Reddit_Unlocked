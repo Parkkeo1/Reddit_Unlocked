{
 "cells": [
  {
   "cell_type": "code",
   "execution_count": 8,
   "metadata": {
    "collapsed": true
   },
   "outputs": [
    {
     "name": "stdout",
     "output_type": "stream",
     "text": [
      "Subreddit to be \"unlocked\" is: reddit.com/r/news\n"
     ]
    }
   ],
   "source": [
    "import praw\n",
    "\n",
    "reddit = praw.Reddit(client_id='Pj5o8QpNXXJY9A',\n",
    "                     client_secret='pQKMRBmhp0In48NoNvvktfRo2eA',\n",
    "                     password='prawisgreat',\n",
    "                     user_agent='Reddit Unlocked CS196 Project @ UIUC',\n",
    "                     username='RedditUnlocked196')\n",
    "\n",
    "# userInput = input('Please enter a subreddit name to be analyzed (without the \"/r/\"): ')\n",
    "name = 'news'\n",
    "subreddit = reddit.subreddit(name)\n",
    "\n",
    "# print('Subreddit to be \"unlocked\" is: ', userInput)\n",
    "print('Subreddit to be \"unlocked\" is: reddit.com/r/' + name)\n",
    "\n",
    "import numpy as np\n",
    "import pandas as pd\n",
    "import matplotlib.pyplot as plt\n",
    "from datetime import datetime\n",
    "\n",
    "threads_df = pd.DataFrame({\n",
    "    'Title': (),\n",
    "    'URL': (),\n",
    "    'Upvote Ratio': ()\n",
    "    ''\n",
    "})\n"
   ]
  },
  {
   "cell_type": "code",
   "execution_count": null,
   "metadata": {},
   "outputs": [],
   "source": []
  }
 ],
 "metadata": {
  "kernelspec": {
   "display_name": "Python 2",
   "language": "python",
   "name": "python2"
  },
  "language_info": {
   "codemirror_mode": {
    "name": "ipython",
    "version": 2
   },
   "file_extension": ".py",
   "mimetype": "text/x-python",
   "name": "python",
   "nbconvert_exporter": "python",
   "pygments_lexer": "ipython2",
   "version": "2.7.6"
  }
 },
 "nbformat": 4,
 "nbformat_minor": 0
}
