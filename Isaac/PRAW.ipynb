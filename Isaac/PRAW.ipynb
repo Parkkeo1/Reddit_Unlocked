{
 "cells": [
  {
   "cell_type": "code",
   "execution_count": 4,
   "metadata": {
    "collapsed": true
   },
   "outputs": [],
   "source": [
    "import praw\n",
    "import numpy as np\n",
    "import pandas as pd\n",
    "from datetime import datetime"
   ]
  },
  {
   "cell_type": "code",
   "execution_count": null,
   "metadata": {
    "scrolled": false
   },
   "outputs": [],
   "source": [
    "reddit = praw.Reddit(client_id='Pj5o8QpNXXJY9A',\n",
    "                     client_secret='pQKMRBmhp0In48NoNvvktfRo2eA',\n",
    "                     password='prawisgreat',\n",
    "                     user_agent='Reddit Unlocked CS196 Project @ UIUC',\n",
    "                     username='RedditUnlocked196')\n",
    "\n",
    "name = input('Please enter a subreddit name to be analyzed (without the \"/r/\"): ')\n",
    "subreddit = reddit.subreddit(name)\n",
    "\n",
    "print('Subreddit to be \"unlocked\" is: reddit.com/r/' + name)"
   ]
  },
  {
   "cell_type": "code",
   "execution_count": null,
   "metadata": {
    "collapsed": true
   },
   "outputs": [],
   "source": [
    "threads_df = pd.DataFrame({\n",
    "    'Title': (),\n",
    "    'URL': (),\n",
    "    'Upvote Ratio (%)': (),\n",
    "    'Net Score': (),\n",
    "    '# of Upvotes': (),\n",
    "    '# of Downvotes': (),\n",
    "    'Year Posted': (),\n",
    "    'Month Posted': (),\n",
    "    'Day Posted': (),\n",
    "    'Self Post?': (),\n",
    "    'Video Post?': ()\n",
    "})\n",
    "\n",
    "threads_df = threads_df[['Title', 'URL', 'Upvote Ratio (%)', 'Net Score', '# of Upvotes', '# of Downvotes', \n",
    "                         'Year Posted', 'Month Posted', 'Day Posted', 'Self Post?', 'Video Post?']]"
   ]
  },
  {
   "cell_type": "code",
   "execution_count": null,
   "metadata": {},
   "outputs": [],
   "source": [
    "# yearly top-threads collector\n",
    "\n",
    "for thread in subreddit.top('year', limit = 10):\n",
    "    actualUps = int((thread.upvote_ratio * thread.score)/(thread.upvote_ratio * 2 - 1))\n",
    "    actualDowns = actualUps - thread.score\n",
    "    gather = pd.Series([thread.title, thread.url, thread.upvote_ratio * 100, thread.score, \n",
    "                        actualUps, actualDowns, \n",
    "                        datetime.utcfromtimestamp(thread.created_utc).year, datetime.utcfromtimestamp(thread.created_utc).month,\n",
    "                        datetime.utcfromtimestamp(thread.created_utc).day, thread.is_self, thread.is_video], \n",
    "                        index=['Title', 'URL', 'Upvote Ratio (%)', 'Net Score', '# of Upvotes', '# of Downvotes', \n",
    "                                  'Year Posted', 'Month Posted', 'Day Posted', 'Self Post?', 'Video Post?'])\n",
    "    threads_df = threads_df.append(gather, ignore_index = True)\n",
    "threads_df"
   ]
  },
  {
   "cell_type": "code",
   "execution_count": null,
   "metadata": {
    "collapsed": true
   },
   "outputs": [],
   "source": [
    "# daily hot/top-by-24hr data collector\n",
    "\n"
   ]
  },
  {
   "cell_type": "code",
   "execution_count": 2,
   "metadata": {},
   "outputs": [
    {
     "name": "stdout",
     "output_type": "stream",
     "text": [
      "[('compatibility', 1.0), ('of', 1.0), ('systems', 1.0), ('linear', 1.0), ('constraints', 1.0), ('over', 1.0), ('the', 1.0), ('set', 1.0), ('natural', 1.0), ('numbers', 1.0), ('criteria', 1.0), ('system', 1.0), ('diophantine', 1.0), ('equations', 1.0)]\n",
      "[('minimal generating sets', 8.666666666666666), ('linear diophantine equations', 8.5), ('minimal supporting set', 7.666666666666666), ('minimal set', 4.666666666666666), ('linear constraints', 4.5), ('natural numbers', 4.0), ('strict inequations', 4.0), ('nonstrict inequations', 4.0), ('upper bounds', 4.0), ('mixed types', 3.666666666666667), ('considered types', 3.166666666666667), ('set', 2.0), ('types', 1.6666666666666667), ('considered', 1.5), ('compatibility', 1.0), ('systems', 1.0), ('criteria', 1.0), ('system', 1.0), ('components', 1.0), ('solutions', 1.0), ('algorithms', 1.0), ('construction', 1.0), ('constructing', 1.0), ('solving', 1.0)]\n"
     ]
    }
   ],
   "source": [
    "######################\n",
    "#                    #\n",
    "#   keyword search   #\n",
    "#                    #\n",
    "######################\n",
    "\n",
    "import newspaper\n",
    "from newspaper import Article\n",
    "import operator\n",
    "import rake as rake"
   ]
  },
  {
   "cell_type": "code",
   "execution_count": 3,
   "metadata": {},
   "outputs": [
    {
     "ename": "NameError",
     "evalue": "name 'threads_df' is not defined",
     "output_type": "error",
     "traceback": [
      "\u001b[0;31m---------------------------------------------------------------------------\u001b[0m",
      "\u001b[0;31mNameError\u001b[0m                                 Traceback (most recent call last)",
      "\u001b[0;32m<ipython-input-3-53a6c8cb55da>\u001b[0m in \u001b[0;36m<module>\u001b[0;34m()\u001b[0m\n\u001b[1;32m      1\u001b[0m \u001b[0mwords\u001b[0m \u001b[0;34m=\u001b[0m \u001b[0;34m{\u001b[0m\u001b[0;34m}\u001b[0m\u001b[0;34m\u001b[0m\u001b[0m\n\u001b[1;32m      2\u001b[0m \u001b[0;34m\u001b[0m\u001b[0m\n\u001b[0;32m----> 3\u001b[0;31m \u001b[0;32mfor\u001b[0m \u001b[0mi\u001b[0m \u001b[0;32min\u001b[0m \u001b[0mrange\u001b[0m\u001b[0;34m(\u001b[0m\u001b[0mlen\u001b[0m\u001b[0;34m(\u001b[0m\u001b[0mthreads_df\u001b[0m\u001b[0;34m)\u001b[0m\u001b[0;34m)\u001b[0m\u001b[0;34m:\u001b[0m\u001b[0;34m\u001b[0m\u001b[0m\n\u001b[0m\u001b[1;32m      4\u001b[0m     \u001b[0;31m#top10news_df.iloc[i]['url']\u001b[0m\u001b[0;34m\u001b[0m\u001b[0;34m\u001b[0m\u001b[0m\n\u001b[1;32m      5\u001b[0m     \u001b[0mmyArticle\u001b[0m \u001b[0;34m=\u001b[0m \u001b[0mArticle\u001b[0m\u001b[0;34m(\u001b[0m\u001b[0mthreads_df\u001b[0m\u001b[0;34m.\u001b[0m\u001b[0miloc\u001b[0m\u001b[0;34m[\u001b[0m\u001b[0mi\u001b[0m\u001b[0;34m]\u001b[0m\u001b[0;34m[\u001b[0m\u001b[0;34m'URL'\u001b[0m\u001b[0;34m]\u001b[0m\u001b[0;34m)\u001b[0m\u001b[0;34m\u001b[0m\u001b[0m\n",
      "\u001b[0;31mNameError\u001b[0m: name 'threads_df' is not defined"
     ]
    }
   ],
   "source": [
    "words = {}\n",
    "\n",
    "for i in range(len(threads_df)):\n",
    "    #top10news_df.iloc[i]['url']\n",
    "    myArticle = Article(threads_df.iloc[i]['URL'])\n",
    "    myArticle.download()\n",
    "    myArticle.parse()\n",
    "    myArticle.nlp()\n",
    "    for keyword in myArticle.keywords:\n",
    "        if keyword not in words:\n",
    "            words[keyword] = [keyword, 1, threads_df.iloc[i]['# of Upvotes']]\n",
    "        else:\n",
    "            words[keyword][1] += 1\n",
    "            words[keyword][2] += threads_df.iloc[i]['# of Upvotes']\n",
    "    for wordPair in rake_object.run(threads_df.iloc[i]['Title']):\n",
    "        currentWord = wordPair[0]\n",
    "        print(currentWord)\n",
    "        if currentWord not in words:\n",
    "            words[currentWord] = [currentWord, 1, threads_df.iloc[i]['# of Upvotes']]\n",
    "        else:\n",
    "            words[currentWord][1] += 1\n",
    "            words[currentWord][2] += threads_df.iloc[i]['# of Upvotes']\n",
    "keywords_df = pd.DataFrame(words, index=['Keyword','Occurences','Upvotes'])\n",
    "keywords_df = keywords_df.transpose().set_index('keyword')\n",
    "keywords_df"
   ]
  },
  {
   "cell_type": "code",
   "execution_count": 66,
   "metadata": {
    "collapsed": true
   },
   "outputs": [],
   "source": [
    "keywords = []\n",
    "for i in range(0, len(threads_df['Self Post?'])):\n",
    "    if (threads_df['Self Post?'][i] == 0.0):\n",
    "        a = Article(threads_df['URL'][i], language = 'en')\n",
    "        a.download()\n",
    "        a.parse()\n",
    "        a.text[:150]\n",
    "        a.nlp()\n",
    "        for j in a.keywords:\n",
    "            keywords.append(j)\n",
    "            \n",
    "x = dict([x,keywords.count(x)] for x in set(keywords))\n",
    "sorted_x = sorted(x.items(), key=operator.itemgetter(1))"
   ]
  },
  {
   "cell_type": "code",
   "execution_count": 67,
   "metadata": {},
   "outputs": [
    {
     "name": "stdout",
     "output_type": "stream",
     "text": [
      "[('day', 1), ('300', 1), ('loses', 1), ('mr', 1), ('bennington', 1), ('security', 1), ('minister', 1), ('suffered', 1), ('caldwell', 1), ('magazine', 1), ('cnn', 1), ('parents', 1), ('remember', 1), ('seizure', 1), ('38', 1), ('american', 1), ('featured', 1), ('soon', 1), ('office', 1), ('information', 1), ('success', 1), ('suicide', 1), ('inducted', 1), ('vote', 1), ('seizures', 1), ('million', 1), ('immigration', 1), ('media', 1), ('prank', 1), ('award', 1), ('revealed', 1), ('true', 1), ('justice', 1), ('way', 1), ('died', 1), ('classified', 1), ('senate', 1), ('ambassador', 1), ('order', 1), ('passes', 1), ('comey', 1), ('film', 1), ('485', 1), ('department', 1), ('later', 1), ('children', 1), ('passed', 1), ('carrie', 1), ('band', 1), ('enterprises', 1), ('chester', 1), ('attorney', 1), ('animals', 1), ('boy', 1), ('wars', 1), ('blocks', 1), ('dogs', 1), ('singer', 1), ('store', 1), ('trumps', 1), ('uk', 1), ('video', 1), ('briefing', 1), ('fbi', 1), ('shelters', 1), ('prescribed', 1), ('world', 1), ('intelligence', 1), ('60', 1), ('gaggle', 1), ('probe', 1), ('founder', 1), ('park', 1), ('youtube', 1), ('highly', 1), ('dead', 1), ('billy', 1), ('organizations', 1), ('hall', 1), ('custody', 1), ('youtubers', 1), ('california', 1), ('princess', 1), ('hugh', 1), ('bud', 1), ('hefner', 1), ('pet', 1), ('shinoda', 1), ('lourd', 1), ('marijuana', 1), ('cbd', 1), ('reporters', 1), ('days', 1), ('cannabis', 1), ('official', 1), ('confidence', 1), ('daddyofive', 1), ('state', 1), ('100', 1), ('times', 1), ('lawyer', 1), ('oil', 1), ('director', 1), ('russian', 1), ('41', 1), ('linkin', 1), ('fisher', 1), ('fishers', 1), ('bill', 1), ('dies', 1), ('mother', 1), ('defied', 1), ('dumps', 1), ('press', 1), ('pets', 1), ('foreign', 1), ('videos', 1), ('icon', 1), ('real', 1), ('general', 1), ('spicer', 1), ('simon', 1), ('honored', 1), ('officials', 1), ('album', 1), ('playboy', 1), ('wonder', 1), ('m', 1), ('medical', 1), ('statement', 1), ('yates', 1), ('amid', 1), ('russia', 2), ('states', 2), ('house', 2), ('united', 2), ('star', 2), ('fired', 2), ('president', 2), ('white', 3), ('trump', 4)]\n",
      "enter keyword here: trump\n",
      "trump appears 4 times\n"
     ]
    }
   ],
   "source": [
    "print(sorted_x) #list of keywords sorted from least to greatest\n",
    "search = input('enter keyword here: ')\n",
    "if (search in x):\n",
    "    print(search, 'appears', x[search], 'times')\n",
    "else:\n",
    "    print('that keyword did not appear')"
   ]
  }
 ],
 "metadata": {
  "kernelspec": {
   "display_name": "Python 3",
   "language": "python",
   "name": "python3"
  },
  "language_info": {
   "codemirror_mode": {
    "name": "ipython",
    "version": 3
   },
   "file_extension": ".py",
   "mimetype": "text/x-python",
   "name": "python",
   "nbconvert_exporter": "python",
   "pygments_lexer": "ipython3",
   "version": "3.6.2"
  }
 },
 "nbformat": 4,
 "nbformat_minor": 1
}
