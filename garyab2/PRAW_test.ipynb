{
 "cells": [
  {
   "cell_type": "code",
   "execution_count": 3,
   "metadata": {},
   "outputs": [
    {
     "name": "stdout",
     "output_type": "stream",
     "text": [
      "My correspondence with Suburban Express's Lawyer\n",
      "Saw something amazing on campus...\n",
      "o shit waddup\n",
      "Brendt Christensen arrested in kidnapping of Yingying Zhang\n",
      "Quick question, no need to upvote: Does The Union basement have functional microwaves?\n",
      "More legal threats from Suburban Express. Letter and response inside.\n",
      "College kids: DON'T GET FUCKING PETS IF YOU'RE NOT PLANNING TO TAKE CARE OF THEM FOR LONGER THAN YOUR FUCKING APARTMENT LEASE\n",
      "To the two girls who talked me down from the top floor of the parking garage by Allen last night: Thank You.\n",
      "Possibly unpopular opinion - doing armchair detective work reflects poorly on our Reddit community\n",
      "No Lawsuits Email - Peoria Charter\n"
     ]
    }
   ],
   "source": [
    "import praw\n",
    "\n",
    "reddit = praw.Reddit(client_id='UHCBgwhLYPSEeg',\n",
    "                    client_secret='dw7eLPuOBlsQXo5EtWhWiSGgWvk',\n",
    "                    user_agent='Vcrew192')\n",
    "subreddit = reddit.subreddit('uiuc')\n",
    "for submission in subreddit.top(limit=10):\n",
    "    print(submission.title)\n",
    "    print()"
   ]
  },
  {
   "cell_type": "code",
   "execution_count": null,
   "metadata": {
    "collapsed": true
   },
   "outputs": [],
   "source": []
  }
 ],
 "metadata": {
  "kernelspec": {
   "display_name": "Python 3",
   "language": "python",
   "name": "python3"
  },
  "language_info": {
   "codemirror_mode": {
    "name": "ipython",
    "version": 3
   },
   "file_extension": ".py",
   "mimetype": "text/x-python",
   "name": "python",
   "nbconvert_exporter": "python",
   "pygments_lexer": "ipython3",
   "version": "3.6.1"
  }
 },
 "nbformat": 4,
 "nbformat_minor": 2
}
