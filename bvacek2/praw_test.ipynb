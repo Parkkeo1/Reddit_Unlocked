{
 "cells": [
  {
   "cell_type": "code",
   "execution_count": 34,
   "metadata": {
    "collapsed": true
   },
   "outputs": [],
   "source": [
    "import praw\n",
    "import matplotlib.pyplot as plt\n",
    "import newspaper\n",
    "from newspaper import Article\n",
    "from datetime import datetime\n",
    "import pandas as pd\n",
    "import operator"
   ]
  },
  {
   "cell_type": "code",
   "execution_count": 46,
   "metadata": {
    "collapsed": true
   },
   "outputs": [],
   "source": [
    "reddit = praw.Reddit(client_id='UHCBgwhLYPSEeg',\n",
    "\t\t\tclient_secret='dw7eLPuOBlsQXo5EtWhWiSGgWvk',\n",
    "\t\t\tuser_agent='Vcrew192')\n",
    "\n",
    "sub = 'news'"
   ]
  },
  {
   "cell_type": "code",
   "execution_count": 16,
   "metadata": {},
   "outputs": [
    {
     "name": "stdout",
     "output_type": "stream",
     "text": [
      "['http://wtkr.com/2017/07/20/tmz-report-chester-bennington-of-linkin-park-commits-suicide/', 'http://www.reuters.com/article/us-usa-trump-immigration-idUSKBN15E1DE', 'http://abcn.ws/2qPcnnU', 'http://www.prnewswire.com/news-releases/american-icon-and-playboy-founder-hugh-m-hefner-has-died-300527267.html', 'https://lbpost.com/life/pets/2000011459-pet-store-bill-passes-california-senate-38-to-0', 'http://money.cnn.com/2017/02/24/media/cnn-blocked-white-house-gaggle/index.html', 'https://www.independent.co.uk/news/uk/home-news/billy-caldwell-cannabis-oil-boy-seizures-stopped-cured-prescription-medical-marijuana-a7933066.html', 'http://www.independent.co.uk/life-style/gadgets-and-tech/news/youtube-daddyofive-cody-videos-watch-children-custody-latest-prank-parents-a7713376.html', 'http://people.com/movies/carrie-fisher-dies/', 'http://wapo.st/2pPSCIo']\n",
      "['soon', 'true', 'park', 'success', 'album', 'suicide', 'dead', 'shinoda', 'wonder', 'remember', 'singer', 'bennington', 'band', 'statement', 'chester', 'linkin', '41']\n",
      "['immigration', 'state', 'house', 'trumps', 'white', 'yates', 'trump', 'lawyer', 'order', 'defied', 'united', 'department', 'fired', 'dumps', 'justice', 'states']\n",
      "['russia', 'director', 'comey', 'spicer', 'fbi', 'general', 'attorney', 'amid', 'trump', 'confidence', 'president', 'fired', 'white', 'probe']\n",
      "['award', 'hefner', 'founder', 'enterprises', 'playboy', 'm', 'honored', 'died', 'icon', 'magazine', 'hugh', 'world', 'american', 'inducted', 'mr']\n",
      "['485', 'shelters', 'store', 'passed', 'senate', 'dogs', 'animals', 'passes', 'bill', 'pets', '38', 'california', 'vote', 'pet']\n",
      "['house', 'organizations', 'media', 'reporters', 'blocks', 'times', 'trump', 'office', 'cnn', 'press', 'briefing', 'gaggle', 'white']\n",
      "['cbd', 'billy', 'uk', 'seizure', 'cannabis', 'day', 'days', 'seizures', '300', 'marijuana', 'oil', 'boy', 'medical', 'prescribed', '100', 'suffered', 'bud', 'caldwell']\n",
      "['million', 'youtubers', 'mother', 'videos', 'star', 'real', 'hall', 'prank', 'children', 'video', 'parents', 'daddyofive', 'custody', 'loses', 'featured', 'youtube']\n",
      "['dies', 'fisher', 'simon', 'star', '60', 'film', 'way', 'later', 'carrie', 'lourd', 'princess', 'wars', 'fishers']\n",
      "['intelligence', 'minister', 'russia', 'highly', 'revealed', 'trump', 'officials', 'united', 'official', 'security', 'foreign', 'russian', 'president', 'classified', 'information', 'ambassador', 'states']\n"
     ]
    }
   ],
   "source": [
    "score = []\n",
    "for submission in reddit.subreddit('news').top('year', limit = 10):\n",
    "    score.append(submission.url)\n",
    "\n",
    "for i in score: \n",
    "    a = Article(i, language = 'en')\n",
    "    a.download()\n",
    "    a.parse()\n",
    "    a.text[:150]\n",
    "    a.nlp()\n",
    "    print(a.keywords)"
   ]
  },
  {
   "cell_type": "code",
   "execution_count": 5,
   "metadata": {},
   "outputs": [
    {
     "data": {
      "text/plain": [
       "<praw.models.listing.generator.ListingGenerator at 0x7f4d09221be0>"
      ]
     },
     "execution_count": 5,
     "metadata": {},
     "output_type": "execute_result"
    }
   ],
   "source": [
    "reddit.subreddit('news').hot(limit=10)"
   ]
  },
  {
   "cell_type": "code",
   "execution_count": 44,
   "metadata": {
    "collapsed": true
   },
   "outputs": [],
   "source": [
    "top10news_df = pd.DataFrame({\n",
    "    'title': (),\n",
    "    'url' : (),\n",
    "    'upvote_percentage': (),\n",
    "    'year_posted': (),\n",
    "    'month_posted': (),\n",
    "    'day_posted': (),\n",
    "    'is_self': (),\n",
    "    'is_video': (),\n",
    "    'media': (),\n",
    "    'keywords_from_article': (),\n",
    "})\n",
    "for submission in reddit.subreddit(sub).hot(limit = 10):\n",
    "    a = Article(submission.url, language = 'en')\n",
    "    a.download()\n",
    "    a.parse()\n",
    "    a.text[:150]\n",
    "    a.nlp()\n",
    "    key = a.keywords\n",
    "    s = pd.Series([submission.title, submission.url, submission.upvote_ratio * 100,\n",
    "                   datetime.utcfromtimestamp(submission.created_utc).year,\n",
    "                  datetime.utcfromtimestamp(submission.created_utc).month,\n",
    "                  datetime.utcfromtimestamp(submission.created_utc).day,\n",
    "                  submission.is_self, submission.is_video, submission.media, key],\n",
    "                  index=['title','url','upvote_percentage', 'year_posted', 'month_posted',\n",
    "                         'day_posted', 'is_self', 'is_video', 'media', 'keywords_from_article'])\n",
    "    top10news_df = top10news_df.append(s, ignore_index=True)"
   ]
  },
  {
   "cell_type": "code",
   "execution_count": 45,
   "metadata": {},
   "outputs": [
    {
     "data": {
      "text/plain": [
       "[('victor', 1),\n",
       " ('wearing', 1),\n",
       " ('original', 1),\n",
       " ('itunes', 1),\n",
       " ('wont', 1),\n",
       " ('reel', 1),\n",
       " ('jidenna', 1),\n",
       " ('rule', 1),\n",
       " ('julianne', 1),\n",
       " ('solompg', 1),\n",
       " ('dropped', 1),\n",
       " ('youtube', 1),\n",
       " ('shins', 1),\n",
       " ('howi', 1),\n",
       " ('wooten', 1),\n",
       " ('gonna', 1),\n",
       " ('official', 1),\n",
       " ('long', 1),\n",
       " ('spelling', 1),\n",
       " ('fish', 1),\n",
       " ('lebowski', 1),\n",
       " ('recordswondaland', 1),\n",
       " ('jeff', 1),\n",
       " ('woeismebut', 1),\n",
       " ('youve', 1),\n",
       " ('viaitunes', 1),\n",
       " ('videojust', 1),\n",
       " ('grace', 1),\n",
       " ('shfiftyfive', 1),\n",
       " ('caring', 1),\n",
       " ('circle', 1),\n",
       " ('reddit', 1),\n",
       " ('schfiftyfive', 1),\n",
       " ('ways', 1),\n",
       " ('epic', 1),\n",
       " ('sony', 1),\n",
       " ('buscemi', 1),\n",
       " ('doesnt', 1),\n",
       " ('wants', 1),\n",
       " ('play', 1),\n",
       " ('perfect', 1),\n",
       " ('fears', 1),\n",
       " ('condition', 1),\n",
       " ('guess', 1),\n",
       " ('moore', 1),\n",
       " ('videos', 1),\n",
       " ('need', 1),\n",
       " ('creepy', 1),\n",
       " ('worldlyricsi', 1),\n",
       " ('mp3', 1),\n",
       " ('net', 1),\n",
       " ('x', 1),\n",
       " ('bass', 1),\n",
       " ('ill', 1),\n",
       " ('everybody', 1),\n",
       " ('doomed', 1),\n",
       " ('steve', 1),\n",
       " ('bridges', 1),\n",
       " ('youre', 1),\n",
       " ('goodman', 1),\n",
       " ('live', 1),\n",
       " ('schfifty', 1),\n",
       " ('audio', 1),\n",
       " ('sell', 1),\n",
       " ('records', 1),\n",
       " ('chief', 1),\n",
       " ('rmusic', 1),\n",
       " ('remember', 1),\n",
       " ('dude', 1),\n",
       " ('john', 1),\n",
       " ('amazing', 1),\n",
       " ('tears', 1),\n",
       " ('released', 1),\n",
       " ('pardon', 1),\n",
       " ('incubus', 1),\n",
       " ('music', 1),\n",
       " ('coen', 1),\n",
       " ('presents', 1),\n",
       " ('shfifty', 1),\n",
       " ('words', 1),\n",
       " ('dont', 1),\n",
       " ('wondering', 1),\n",
       " ('way', 1),\n",
       " ('wondaland', 1),\n",
       " ('click', 2),\n",
       " ('published', 2),\n",
       " ('big', 2),\n",
       " ('world', 2),\n",
       " ('rentedthis', 3),\n",
       " ('feature', 3),\n",
       " ('try', 3),\n",
       " ('later', 3),\n",
       " ('rating', 3),\n",
       " ('right', 3),\n",
       " ('available', 4),\n",
       " ('video', 4)]"
      ]
     },
     "execution_count": 45,
     "metadata": {},
     "output_type": "execute_result"
    }
   ],
   "source": [
    "keywords = []\n",
    "for i in top10news_df['keywords_from_article']:\n",
    "        for j in i:\n",
    "            keywords.append(j)\n",
    "x = dict([x,keywords.count(x)] for x in set(keywords))\n",
    "sorted_x = sorted(x.items(), key=operator.itemgetter(1))\n",
    "sorted_x"
   ]
  }
 ],
 "metadata": {
  "kernelspec": {
   "display_name": "Python 3",
   "language": "python",
   "name": "python3"
  },
  "language_info": {
   "codemirror_mode": {
    "name": "ipython",
    "version": 3
   },
   "file_extension": ".py",
   "mimetype": "text/x-python",
   "name": "python",
   "nbconvert_exporter": "python",
   "pygments_lexer": "ipython3",
   "version": "3.6.1"
  }
 },
 "nbformat": 4,
 "nbformat_minor": 2
}
