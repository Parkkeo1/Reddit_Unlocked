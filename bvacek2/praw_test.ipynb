{
 "cells": [
  {
   "cell_type": "code",
   "execution_count": 1,
   "metadata": {
    "collapsed": true
   },
   "outputs": [],
   "source": [
    "import praw\n",
    "import matplotlib.pyplot as plt\n",
    "import newspaper\n",
    "from newspaper import Article"
   ]
  },
  {
   "cell_type": "code",
   "execution_count": 2,
   "metadata": {
    "collapsed": true
   },
   "outputs": [],
   "source": [
    "reddit = praw.Reddit(client_id='UHCBgwhLYPSEeg',\n",
    "\t\t\tclient_secret='dw7eLPuOBlsQXo5EtWhWiSGgWvk',\n",
    "\t\t\tuser_agent='Vcrew192')"
   ]
  },
  {
   "cell_type": "code",
   "execution_count": 6,
   "metadata": {},
   "outputs": [
    {
     "name": "stdout",
     "output_type": "stream",
     "text": [
      "['files', 'countdown', 'state', 'soviet', 'archives', 'assassination', 'information', 'oswald', 'president', '2017', 'released', 'including']\n"
     ]
    }
   ],
   "source": [
    "score = []\n",
    "for submission in reddit.subreddit('news').hot(limit=10):\n",
    "    score.append(submission.url)\n",
    "\n",
    "a = Article(score[0], language = 'en')\n",
    "a.download()\n",
    "a.parse()\n",
    "a.text[:150]\n",
    "a.nlp()\n",
    "print(a.keywords)"
   ]
  },
  {
   "cell_type": "code",
   "execution_count": 5,
   "metadata": {},
   "outputs": [
    {
     "data": {
      "text/plain": [
       "<praw.models.listing.generator.ListingGenerator at 0x7f4d09221be0>"
      ]
     },
     "execution_count": 5,
     "metadata": {},
     "output_type": "execute_result"
    }
   ],
   "source": [
    "reddit.subreddit('news').hot(limit=10)"
   ]
  },
  {
   "cell_type": "code",
   "execution_count": null,
   "metadata": {
    "collapsed": true
   },
   "outputs": [],
   "source": []
  }
 ],
 "metadata": {
  "kernelspec": {
   "display_name": "Python 3",
   "language": "python",
   "name": "python3"
  },
  "language_info": {
   "codemirror_mode": {
    "name": "ipython",
    "version": 3
   },
   "file_extension": ".py",
   "mimetype": "text/x-python",
   "name": "python",
   "nbconvert_exporter": "python",
   "pygments_lexer": "ipython3",
   "version": "3.6.1"
  }
 },
 "nbformat": 4,
 "nbformat_minor": 2
}
